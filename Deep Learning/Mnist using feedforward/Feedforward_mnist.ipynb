{
  "nbformat": 4,
  "nbformat_minor": 0,
  "metadata": {
    "colab": {
      "provenance": []
    },
    "kernelspec": {
      "name": "python3",
      "display_name": "Python 3"
    },
    "language_info": {
      "name": "python"
    }
  },
  "cells": [
    {
      "cell_type": "code",
      "execution_count": null,
      "metadata": {
        "id": "yzPERH2rWjH2"
      },
      "outputs": [],
      "source": [
        "import numpy as np\n",
        "import matplotlib.pyplot as plt\n",
        "import tensorflow as tf\n",
        "from sklearn.model_selection import train_test_split\n",
        "from tensorflow.keras.datasets import mnist\n",
        "from tensorflow.keras.utils import to_categorical , plot_model\n",
        "from tensorflow.keras.layers import Dense , Dropout ,Input , Average , Flatten\n",
        "from tensorflow.keras.callbacks import EarlyStopping\n",
        "from tensorflow.keras.optimizers import SGD\n",
        "from tensorflow.keras.models import Model\n",
        "from sklearn.model_selection import StratifiedKFold\n",
        "from sklearn import metrics\n",
        "from collections import Counter\n",
        "from sklearn.metrics import classification_report, confusion_matrix\n",
        "from tensorflow.keras.losses import SparseCategoricalCrossentropy"
      ]
    },
    {
      "cell_type": "code",
      "source": [
        "# load the dataset using the builtin Keras method\n",
        "(X_train, y_train), (X_test, y_test) = mnist.load_data()\n",
        "print('Dimensionality of the training image dataset and labels:')\n",
        "print(X_train.shape)\n",
        "print(y_train.shape)\n",
        "print('Dimensionality of the test image dataset and labels:')\n",
        "print(X_test.shape)\n",
        "print(y_test.shape)"
      ],
      "metadata": {
        "colab": {
          "base_uri": "https://localhost:8080/"
        },
        "id": "xfADPqUMW1gV",
        "outputId": "e077a4ec-e6de-4930-fc4a-411cd3c66513"
      },
      "execution_count": null,
      "outputs": [
        {
          "output_type": "stream",
          "name": "stdout",
          "text": [
            "Dimensionality of the training image dataset and labels:\n",
            "(60000, 28, 28)\n",
            "(60000,)\n",
            "Dimensionality of the test image dataset and labels:\n",
            "(10000, 28, 28)\n",
            "(10000,)\n"
          ]
        }
      ]
    },
    {
      "cell_type": "code",
      "source": [
        "from numpy.ma.core import size\n",
        "from google.colab.patches import cv2_imshow\n",
        "for i in range (20):\n",
        "  cv2_imshow(X_train[20+i])"
      ],
      "metadata": {
        "colab": {
          "base_uri": "https://localhost:8080/",
          "height": 577
        },
        "id": "nqdrFDpXXHjz",
        "outputId": "9c5af1ca-c1b1-4d92-917b-5b3770c71b73"
      },
      "execution_count": null,
      "outputs": [
        {
          "output_type": "display_data",
          "data": {
            "text/plain": [
              "<PIL.Image.Image image mode=L size=28x28 at 0x7FF3775C1FC0>"
            ],
            "image/png": "[encoded data removed]"
          },
          "metadata": {}
        },
        {
          "output_type": "display_data",
          "data": {
            "text/plain": [
              "<PIL.Image.Image image mode=L size=28x28 at 0x7FF3775C1FC0>"
            ],
            "image/png": "[encoded data removed]"
          },
          "metadata": {}
        },
        {
          "output_type": "display_data",
          "data": {
            "text/plain": [
              "<PIL.Image.Image image mode=L size=28x28 at 0x7FF3775C1FC0>"
            ],
            "image/png": "[encoded data removed]"
          },
          "metadata": {}
        },
        {
          "output_type": "display_data",
          "data": {
            "text/plain": [
              "<PIL.Image.Image image mode=L size=28x28 at 0x7FF3775C1FC0>"
            ],
            "image/png": "[encoded data removed]"
          },
          "metadata": {}
        },
        {
          "output_type": "display_data",
          "data": {
            "text/plain": [
              "<PIL.Image.Image image mode=L size=28x28 at 0x7FF3775C1FC0>"
            ],
            "image/png": "[encoded data removed]"
          },
          "metadata": {}
        },
        {
          "output_type": "display_data",
          "data": {
            "text/plain": [
              "<PIL.Image.Image image mode=L size=28x28 at 0x7FF3775C1FC0>"
            ],
            "image/png": "[encoded data removed]"
          },
          "metadata": {}
        },
        {
          "output_type": "display_data",
          "data": {
            "text/plain": [
              "<PIL.Image.Image image mode=L size=28x28 at 0x7FF3775C1FC0>"
            ],
            "image/png": "[encoded data removed]"
          },
          "metadata": {}
        },
        {
          "output_type": "display_data",
          "data": {
            "text/plain": [
              "<PIL.Image.Image image mode=L size=28x28 at 0x7FF3775C1FC0>"
            ],
            "image/png": "[encoded data removed]"
          },
          "metadata": {}
        },
        {
          "output_type": "display_data",
          "data": {
            "text/plain": [
              "<PIL.Image.Image image mode=L size=28x28 at 0x7FF3775C1FC0>"
            ],
            "image/png": "[encoded data removed]"
          },
          "metadata": {}
        },
        {
          "output_type": "display_data",
          "data": {
            "text/plain": [
              "<PIL.Image.Image image mode=L size=28x28 at 0x7FF3775C1FC0>"
            ],
            "image/png": "[encoded data removed]"
          },
          "metadata": {}
        },
        {
          "output_type": "display_data",
          "data": {
            "text/plain": [
              "<PIL.Image.Image image mode=L size=28x28 at 0x7FF3775C1FC0>"
            ],
            "image/png": "[encoded data removed]"
          },
          "metadata": {}
        },
        {
          "output_type": "display_data",
          "data": {
            "text/plain": [
              "<PIL.Image.Image image mode=L size=28x28 at 0x7FF378453EB0>"
            ],
            "image/png": "[encoded data removed]"
          },
          "metadata": {}
        },
        {
          "output_type": "display_data",
          "data": {
            "text/plain": [
              "<PIL.Image.Image image mode=L size=28x28 at 0x7FF378453EB0>"
            ],
            "image/png": "[encoded data removed]"
          },
          "metadata": {}
        },
        {
          "output_type": "display_data",
          "data": {
            "text/plain": [
              "<PIL.Image.Image image mode=L size=28x28 at 0x7FF378453EB0>"
            ],
            "image/png": "[encoded data removed]"
          },
          "metadata": {}
        },
        {
          "output_type": "display_data",
          "data": {
            "text/plain": [
              "<PIL.Image.Image image mode=L size=28x28 at 0x7FF378453EB0>"
            ],
            "image/png": "[encoded data removed]"
          },
          "metadata": {}
        },
        {
          "output_type": "display_data",
          "data": {
            "text/plain": [
              "<PIL.Image.Image image mode=L size=28x28 at 0x7FF378453EB0>"
            ],
            "image/png": "[encoded data removed]"
          },
          "metadata": {}
        },
        {
          "output_type": "display_data",
          "data": {
            "text/plain": [
              "<PIL.Image.Image image mode=L size=28x28 at 0x7FF378453EB0>"
            ],
            "image/png": "[encoded data removed]"
          },
          "metadata": {}
        },
        {
          "output_type": "display_data",
          "data": {
            "text/plain": [
              "<PIL.Image.Image image mode=L size=28x28 at 0x7FF378453EB0>"
            ],
            "image/png": "[encoded data removed]"
          },
          "metadata": {}
        },
        {
          "output_type": "display_data",
          "data": {
            "text/plain": [
              "<PIL.Image.Image image mode=L size=28x28 at 0x7FF378453EB0>"
            ],
            "image/png": "[encoded data removed]"
          },
          "metadata": {}
        },
        {
          "output_type": "display_data",
          "data": {
            "text/plain": [
              "<PIL.Image.Image image mode=L size=28x28 at 0x7FF378453EB0>"
            ],
            "image/png": "[encoded data removed]"
          },
          "metadata": {}
        }
      ]
    },
    {
      "cell_type": "code",
      "source": [
        "X_train = X_train.astype('float32')\n",
        "#y_train = y_train.astype('float32')\n",
        "X_test = X_test.astype('float32')\n",
        "#y_test = y_test.astype('float32')"
      ],
      "metadata": {
        "id": "LjXj8hpzpSG4"
      },
      "execution_count": null,
      "outputs": []
    },
    {
      "cell_type": "code",
      "source": [
        "X_train = X_train/255\n",
        "X_test = X_test/255"
      ],
      "metadata": {
        "id": "ytt2xMflXVUT"
      },
      "execution_count": null,
      "outputs": []
    },
    {
      "cell_type": "code",
      "source": [
        "y_test"
      ],
      "metadata": {
        "colab": {
          "base_uri": "https://localhost:8080/"
        },
        "id": "VisklQ-XbXNn",
        "outputId": "1ac0b970-608d-4d46-b4ab-3072195fba9a"
      },
      "execution_count": null,
      "outputs": [
        {
          "output_type": "execute_result",
          "data": {
            "text/plain": [
              "array([7, 2, 1, ..., 4, 5, 6], dtype=uint8)"
            ]
          },
          "metadata": {},
          "execution_count": 41
        }
      ]
    },
    {
      "cell_type": "code",
      "source": [
        "X_train[12]"
      ],
      "metadata": {
        "id": "KJOjZwE9rEdY",
        "outputId": "f4740f2d-4145-4a80-8cdb-d2f97987c297",
        "colab": {
          "base_uri": "https://localhost:8080/"
        }
      },
      "execution_count": null,
      "outputs": [
        {
          "output_type": "execute_result",
          "data": {
            "text/plain": [
              "array([[0.        , 0.        , 0.        , 0.        , 0.        ,\n",
              "        0.        , 0.        , 0.        , 0.        , 0.        ,\n",
              "        0.        , 0.        , 0.        , 0.        , 0.        ,\n",
              "        0.        , 0.        , 0.        , 0.        , 0.        ,\n",
              "        0.        , 0.        , 0.        , 0.        , 0.        ,\n",
              "        0.        , 0.        , 0.        ],\n",
              "       [0.        , 0.        , 0.        , 0.        , 0.        ,\n",
              "        0.        , 0.        , 0.        , 0.        , 0.        ,\n",
              "        0.        , 0.        , 0.        , 0.        , 0.        ,\n",
              "        0.        , 0.        , 0.        , 0.        , 0.        ,\n",
              "        0.        , 0.        , 0.        , 0.        , 0.        ,\n",
              "        0.        , 0.        , 0.        ],\n",
              "       [0.        , 0.        , 0.        , 0.        , 0.        ,\n",
              "        0.        , 0.        , 0.        , 0.        , 0.        ,\n",
              "        0.        , 0.        , 0.        , 0.        , 0.        ,\n",
              "        0.        , 0.        , 0.        , 0.        , 0.        ,\n",
              "        0.        , 0.        , 0.        , 0.        , 0.        ,\n",
              "        0.        , 0.        , 0.        ],\n",
              "       [0.        , 0.        , 0.        , 0.        , 0.        ,\n",
              "        0.        , 0.        , 0.        , 0.        , 0.        ,\n",
              "        0.        , 0.        , 0.        , 0.        , 0.        ,\n",
              "        0.        , 0.        , 0.        , 0.        , 0.        ,\n",
              "        0.        , 0.        , 0.        , 0.        , 0.        ,\n",
              "        0.        , 0.        , 0.        ],\n",
              "       [0.        , 0.        , 0.        , 0.        , 0.        ,\n",
              "        0.        , 0.        , 0.        , 0.        , 0.        ,\n",
              "        0.        , 0.        , 0.        , 0.        , 0.        ,\n",
              "        0.        , 0.        , 0.        , 0.        , 0.        ,\n",
              "        0.        , 0.        , 0.        , 0.        , 0.        ,\n",
              "        0.        , 0.        , 0.        ],\n",
              "       [0.        , 0.        , 0.        , 0.04705882, 0.3882353 ,\n",
              "        0.35686275, 0.5568628 , 0.60784316, 0.9647059 , 0.7137255 ,\n",
              "        0.60784316, 0.60784316, 0.60784316, 0.60784316, 0.5137255 ,\n",
              "        0.20392157, 0.        , 0.        , 0.        , 0.        ,\n",
              "        0.        , 0.        , 0.        , 0.        , 0.        ,\n",
              "        0.        , 0.        , 0.        ],\n",
              "       [0.        , 0.        , 0.        , 0.5411765 , 0.99607843,\n",
              "        0.99607843, 0.99607843, 0.99607843, 0.99607843, 0.99607843,\n",
              "        0.99607843, 0.99607843, 0.99607843, 0.99607843, 0.99607843,\n",
              "        0.9882353 , 0.8235294 , 0.47843137, 0.12941177, 0.        ,\n",
              "        0.        , 0.        , 0.        , 0.        , 0.        ,\n",
              "        0.        , 0.        , 0.        ],\n",
              "       [0.        , 0.        , 0.        , 0.8627451 , 0.99607843,\n",
              "        0.99607843, 0.99607843, 0.92156863, 0.7411765 , 0.7411765 ,\n",
              "        0.7411765 , 0.7411765 , 0.5882353 , 0.7411765 , 0.8039216 ,\n",
              "        0.99607843, 0.99607843, 0.99607843, 0.29411766, 0.        ,\n",
              "        0.        , 0.        , 0.        , 0.        , 0.        ,\n",
              "        0.        , 0.        , 0.        ],\n",
              "       [0.        , 0.        , 0.        , 0.13725491, 0.2901961 ,\n",
              "        0.13725491, 0.13725491, 0.09803922, 0.        , 0.        ,\n",
              "        0.        , 0.        , 0.        , 0.        , 0.05098039,\n",
              "        0.8784314 , 0.99607843, 0.99607843, 0.6       , 0.        ,\n",
              "        0.        , 0.        , 0.        , 0.        , 0.        ,\n",
              "        0.        , 0.        , 0.        ],\n",
              "       [0.        , 0.        , 0.        , 0.        , 0.        ,\n",
              "        0.        , 0.        , 0.        , 0.        , 0.        ,\n",
              "        0.        , 0.        , 0.        , 0.        , 0.3529412 ,\n",
              "        0.99607843, 0.99607843, 0.96862745, 0.20784314, 0.        ,\n",
              "        0.        , 0.        , 0.        , 0.        , 0.        ,\n",
              "        0.        , 0.        , 0.        ],\n",
              "       [0.        , 0.        , 0.        , 0.        , 0.        ,\n",
              "        0.        , 0.        , 0.        , 0.        , 0.        ,\n",
              "        0.        , 0.        , 0.02352941, 0.59607846, 0.9647059 ,\n",
              "        0.99607843, 0.99607843, 0.19215687, 0.        , 0.        ,\n",
              "        0.        , 0.        , 0.        , 0.        , 0.        ,\n",
              "        0.        , 0.        , 0.        ],\n",
              "       [0.        , 0.        , 0.        , 0.        , 0.        ,\n",
              "        0.        , 0.        , 0.        , 0.        , 0.        ,\n",
              "        0.        , 0.25882354, 0.61960787, 0.99607843, 0.99607843,\n",
              "        0.9764706 , 0.40392157, 0.03137255, 0.        , 0.        ,\n",
              "        0.        , 0.        , 0.        , 0.        , 0.        ,\n",
              "        0.        , 0.        , 0.        ],\n",
              "       [0.        , 0.        , 0.        , 0.        , 0.        ,\n",
              "        0.        , 0.        , 0.        , 0.        , 0.        ,\n",
              "        0.21176471, 0.9843137 , 0.99607843, 0.99607843, 0.99607843,\n",
              "        0.972549  , 0.2901961 , 0.01960784, 0.        , 0.        ,\n",
              "        0.        , 0.        , 0.        , 0.        , 0.        ,\n",
              "        0.        , 0.        , 0.        ],\n",
              "       [0.        , 0.        , 0.        , 0.        , 0.        ,\n",
              "        0.        , 0.        , 0.        , 0.        , 0.        ,\n",
              "        0.54901963, 0.99607843, 0.99607843, 0.99607843, 0.99607843,\n",
              "        0.99607843, 0.99607843, 0.7921569 , 0.49019608, 0.1764706 ,\n",
              "        0.        , 0.        , 0.        , 0.        , 0.        ,\n",
              "        0.        , 0.        , 0.        ],\n",
              "       [0.        , 0.        , 0.        , 0.        , 0.        ,\n",
              "        0.        , 0.        , 0.        , 0.        , 0.        ,\n",
              "        0.22745098, 0.70980394, 0.91764706, 0.99607843, 0.99607843,\n",
              "        0.99607843, 0.99607843, 0.99607843, 0.99607843, 0.9882353 ,\n",
              "        0.54901963, 0.08627451, 0.        , 0.        , 0.        ,\n",
              "        0.        , 0.        , 0.        ],\n",
              "       [0.        , 0.        , 0.        , 0.        , 0.        ,\n",
              "        0.        , 0.        , 0.        , 0.        , 0.        ,\n",
              "        0.        , 0.        , 0.11764706, 0.19607843, 0.28627452,\n",
              "        0.60784316, 0.99215686, 0.99607843, 0.99607843, 0.99607843,\n",
              "        0.99607843, 0.7490196 , 0.00784314, 0.        , 0.        ,\n",
              "        0.        , 0.        , 0.        ],\n",
              "       [0.        , 0.        , 0.        , 0.        , 0.        ,\n",
              "        0.        , 0.        , 0.        , 0.        , 0.        ,\n",
              "        0.        , 0.        , 0.        , 0.        , 0.        ,\n",
              "        0.        , 0.35686275, 0.78431374, 0.99607843, 0.99607843,\n",
              "        0.99607843, 0.99607843, 0.4627451 , 0.        , 0.        ,\n",
              "        0.        , 0.        , 0.        ],\n",
              "       [0.        , 0.        , 0.        , 0.        , 0.        ,\n",
              "        0.        , 0.        , 0.        , 0.        , 0.        ,\n",
              "        0.        , 0.        , 0.        , 0.        , 0.        ,\n",
              "        0.        , 0.        , 0.01568628, 0.7529412 , 0.99607843,\n",
              "        0.99607843, 0.99607843, 0.6039216 , 0.        , 0.        ,\n",
              "        0.        , 0.        , 0.        ],\n",
              "       [0.        , 0.        , 0.        , 0.        , 0.        ,\n",
              "        0.        , 0.        , 0.        , 0.        , 0.        ,\n",
              "        0.        , 0.        , 0.        , 0.        , 0.        ,\n",
              "        0.        , 0.        , 0.        , 0.5529412 , 0.99607843,\n",
              "        0.99607843, 0.99607843, 0.45490196, 0.        , 0.        ,\n",
              "        0.        , 0.        , 0.        ],\n",
              "       [0.        , 0.        , 0.        , 0.        , 0.        ,\n",
              "        0.        , 0.        , 0.        , 0.09803922, 0.49411765,\n",
              "        0.3372549 , 0.        , 0.        , 0.        , 0.        ,\n",
              "        0.        , 0.        , 0.01176471, 0.7372549 , 0.99607843,\n",
              "        0.99607843, 0.98039216, 0.23921569, 0.        , 0.        ,\n",
              "        0.        , 0.        , 0.        ],\n",
              "       [0.        , 0.        , 0.        , 0.        , 0.        ,\n",
              "        0.        , 0.        , 0.09411765, 0.81960785, 0.99607843,\n",
              "        0.05882353, 0.        , 0.        , 0.        , 0.        ,\n",
              "        0.        , 0.09019608, 0.5372549 , 0.99607843, 0.99607843,\n",
              "        0.99607843, 0.81960785, 0.        , 0.        , 0.        ,\n",
              "        0.        , 0.        , 0.        ],\n",
              "       [0.        , 0.        , 0.        , 0.        , 0.        ,\n",
              "        0.        , 0.        , 0.65882355, 0.99607843, 0.99607843,\n",
              "        0.1882353 , 0.03529412, 0.        , 0.        , 0.03529412,\n",
              "        0.49803922, 0.94509804, 0.99607843, 0.99607843, 1.        ,\n",
              "        0.9490196 , 0.24705882, 0.        , 0.        , 0.        ,\n",
              "        0.        , 0.        , 0.        ],\n",
              "       [0.        , 0.        , 0.        , 0.        , 0.        ,\n",
              "        0.        , 0.        , 0.39607844, 0.99607843, 0.99607843,\n",
              "        0.99607843, 0.8039216 , 0.74509805, 0.74509805, 0.8039216 ,\n",
              "        0.99607843, 0.99607843, 0.99607843, 0.99607843, 0.9490196 ,\n",
              "        0.2627451 , 0.        , 0.        , 0.        , 0.        ,\n",
              "        0.        , 0.        , 0.        ],\n",
              "       [0.        , 0.        , 0.        , 0.        , 0.        ,\n",
              "        0.        , 0.        , 0.12941177, 0.6509804 , 0.99607843,\n",
              "        0.99607843, 0.99607843, 0.99607843, 0.99607843, 0.99607843,\n",
              "        0.99607843, 0.99607843, 0.98039216, 0.5411765 , 0.21568628,\n",
              "        0.        , 0.        , 0.        , 0.        , 0.        ,\n",
              "        0.        , 0.        , 0.        ],\n",
              "       [0.        , 0.        , 0.        , 0.        , 0.        ,\n",
              "        0.        , 0.        , 0.        , 0.02745098, 0.34509805,\n",
              "        0.6039216 , 0.45490196, 0.7607843 , 0.7607843 , 0.6039216 ,\n",
              "        0.6039216 , 0.34509805, 0.19215687, 0.        , 0.        ,\n",
              "        0.        , 0.        , 0.        , 0.        , 0.        ,\n",
              "        0.        , 0.        , 0.        ],\n",
              "       [0.        , 0.        , 0.        , 0.        , 0.        ,\n",
              "        0.        , 0.        , 0.        , 0.        , 0.        ,\n",
              "        0.        , 0.        , 0.        , 0.        , 0.        ,\n",
              "        0.        , 0.        , 0.        , 0.        , 0.        ,\n",
              "        0.        , 0.        , 0.        , 0.        , 0.        ,\n",
              "        0.        , 0.        , 0.        ],\n",
              "       [0.        , 0.        , 0.        , 0.        , 0.        ,\n",
              "        0.        , 0.        , 0.        , 0.        , 0.        ,\n",
              "        0.        , 0.        , 0.        , 0.        , 0.        ,\n",
              "        0.        , 0.        , 0.        , 0.        , 0.        ,\n",
              "        0.        , 0.        , 0.        , 0.        , 0.        ,\n",
              "        0.        , 0.        , 0.        ],\n",
              "       [0.        , 0.        , 0.        , 0.        , 0.        ,\n",
              "        0.        , 0.        , 0.        , 0.        , 0.        ,\n",
              "        0.        , 0.        , 0.        , 0.        , 0.        ,\n",
              "        0.        , 0.        , 0.        , 0.        , 0.        ,\n",
              "        0.        , 0.        , 0.        , 0.        , 0.        ,\n",
              "        0.        , 0.        , 0.        ]], dtype=float32)"
            ]
          },
          "metadata": {},
          "execution_count": 43
        }
      ]
    },
    {
      "cell_type": "code",
      "source": [
        "c = Counter(y_test)\n",
        "\n",
        "plt.bar(c.keys(), c.values())\n",
        "plt.title(\"Test\")\n",
        "plt.show()"
      ],
      "metadata": {
        "colab": {
          "base_uri": "https://localhost:8080/",
          "height": 452
        },
        "id": "U9fIuKbLdF91",
        "outputId": "6e27c508-2b32-44d0-d529-11b42be69eae"
      },
      "execution_count": null,
      "outputs": [
        {
          "output_type": "display_data",
          "data": {
            "text/plain": [
              "<Figure size 640x480 with 1 Axes>"
            ],
            "image/png": "[encoded data removed]"
          },
          "metadata": {}
        }
      ]
    },
    {
      "cell_type": "code",
      "source": [
        "c = Counter(y_train)\n",
        "\n",
        "plt.bar(c.keys(), c.values())\n",
        "plt.title(\"Train\")\n",
        "plt.show()"
      ],
      "metadata": {
        "colab": {
          "base_uri": "https://localhost:8080/",
          "height": 452
        },
        "id": "a6sU2P_MdNWo",
        "outputId": "2853fa3b-b9a4-46c3-eab8-d4d95fc347a5"
      },
      "execution_count": null,
      "outputs": [
        {
          "output_type": "display_data",
          "data": {
            "text/plain": [
              "<Figure size 640x480 with 1 Axes>"
            ],
            "image/png": "[encoded data removed]"
          },
          "metadata": {}
        }
      ]
    },
    {
      "cell_type": "code",
      "source": [
        "X_train.shape"
      ],
      "metadata": {
        "colab": {
          "base_uri": "https://localhost:8080/"
        },
        "id": "jZ-WGOx4iEuU",
        "outputId": "c983658b-6493-4ff0-fd5e-0221ea91071e"
      },
      "execution_count": null,
      "outputs": [
        {
          "output_type": "execute_result",
          "data": {
            "text/plain": [
              "(60000, 28, 28)"
            ]
          },
          "metadata": {},
          "execution_count": 11
        }
      ]
    },
    {
      "cell_type": "code",
      "source": [
        "X_train = X_train.reshape(-1, 1, 28, 28)\n",
        "X_test = X_test.reshape(-1, 1, 28, 28)"
      ],
      "metadata": {
        "id": "p_63pSaxjj5f"
      },
      "execution_count": null,
      "outputs": []
    },
    {
      "cell_type": "code",
      "source": [
        "X_train.shape"
      ],
      "metadata": {
        "colab": {
          "base_uri": "https://localhost:8080/"
        },
        "id": "2d8IvIUE0jwa",
        "outputId": "26078b0e-1506-4060-cf2a-6fe3a69b20fd"
      },
      "execution_count": null,
      "outputs": [
        {
          "output_type": "execute_result",
          "data": {
            "text/plain": [
              "(60000, 1, 28, 28)"
            ]
          },
          "metadata": {},
          "execution_count": 18
        }
      ]
    },
    {
      "cell_type": "code",
      "source": [
        "sgd = SGD(learning_rate=0.001 , momentum=0.87)\n",
        "es = EarlyStopping(monitor='val_loss', mode='auto', verbose=1 , patience=3)\n",
        "adam= tf.keras.optimizers.Adam(learning_rate=0.001)\n",
        "\n",
        "input_layer = Input(shape=(1,28,28), name =\"input\")\n",
        "hidden_layer1 = Dense(64 ,activation='linear' , name=\"layer1\")(input_layer)\n",
        "flatten_layer1 = Flatten(name=\"flatten1\")(hidden_layer1)\n",
        "hidden_layer2 = Dense(64 ,activation='linear' , name=\"layer2\")(flatten_layer1)\n",
        "flatten_layer2 = Flatten(name=\"flatten2\")(hidden_layer2)\n",
        "hidden_layer3 = Dense(64 ,activation='linear' , name=\"layer3\")(flatten_layer2)\n",
        "flatten_layer3 = Flatten(name=\"flatten3\")(hidden_layer3)\n",
        "output_layer = Dense(10 ,activation='softmax' , name=\"output\")(flatten_layer3)\n",
        "\n",
        "network = Model(inputs=input_layer, outputs=output_layer , name = \"network1\")\n",
        "network.compile(optimizer=sgd , loss=SparseCategoricalCrossentropy(), metrics=['accuracy'])\n",
        "history = network.fit(X_train,y_train , batch_size=64 , epochs=50 , validation_split=0.25 , callbacks = [es])"
      ],
      "metadata": {
        "colab": {
          "base_uri": "https://localhost:8080/"
        },
        "id": "crREP6p4dhsC",
        "outputId": "2e34095e-e097-42be-e2d4-c9a73c0dc6df"
      },
      "execution_count": null,
      "outputs": [
        {
          "output_type": "stream",
          "name": "stdout",
          "text": [
            "Epoch 1/50\n",
            "704/704 [==============================] - 6s 7ms/step - loss: 0.7689 - accuracy: 0.7929 - val_loss: 0.4110 - val_accuracy: 0.8843\n",
            "Epoch 2/50\n",
            "704/704 [==============================] - 4s 6ms/step - loss: 0.3901 - accuracy: 0.8904 - val_loss: 0.3484 - val_accuracy: 0.9025\n",
            "Epoch 3/50\n",
            "704/704 [==============================] - 6s 8ms/step - loss: 0.3466 - accuracy: 0.9011 - val_loss: 0.3250 - val_accuracy: 0.9083\n",
            "Epoch 4/50\n",
            "704/704 [==============================] - 5s 7ms/step - loss: 0.3277 - accuracy: 0.9064 - val_loss: 0.3149 - val_accuracy: 0.9097\n",
            "Epoch 5/50\n",
            "704/704 [==============================] - 5s 7ms/step - loss: 0.3159 - accuracy: 0.9094 - val_loss: 0.3056 - val_accuracy: 0.9131\n",
            "Epoch 6/50\n",
            "704/704 [==============================] - 5s 7ms/step - loss: 0.3080 - accuracy: 0.9118 - val_loss: 0.3014 - val_accuracy: 0.9141\n",
            "Epoch 7/50\n",
            "704/704 [==============================] - 5s 7ms/step - loss: 0.3021 - accuracy: 0.9135 - val_loss: 0.2967 - val_accuracy: 0.9164\n",
            "Epoch 8/50\n",
            "704/704 [==============================] - 5s 8ms/step - loss: 0.2970 - accuracy: 0.9152 - val_loss: 0.2960 - val_accuracy: 0.9165\n",
            "Epoch 9/50\n",
            "704/704 [==============================] - 4s 6ms/step - loss: 0.2927 - accuracy: 0.9162 - val_loss: 0.2932 - val_accuracy: 0.9166\n",
            "Epoch 10/50\n",
            "704/704 [==============================] - 5s 6ms/step - loss: 0.2895 - accuracy: 0.9178 - val_loss: 0.2899 - val_accuracy: 0.9188\n",
            "Epoch 11/50\n",
            "704/704 [==============================] - 6s 8ms/step - loss: 0.2869 - accuracy: 0.9184 - val_loss: 0.2871 - val_accuracy: 0.9201\n",
            "Epoch 12/50\n",
            "704/704 [==============================] - 4s 6ms/step - loss: 0.2838 - accuracy: 0.9192 - val_loss: 0.2880 - val_accuracy: 0.9200\n",
            "Epoch 13/50\n",
            "704/704 [==============================] - 5s 8ms/step - loss: 0.2820 - accuracy: 0.9194 - val_loss: 0.2879 - val_accuracy: 0.9183\n",
            "Epoch 14/50\n",
            "704/704 [==============================] - 5s 7ms/step - loss: 0.2794 - accuracy: 0.9204 - val_loss: 0.2839 - val_accuracy: 0.9216\n",
            "Epoch 15/50\n",
            "704/704 [==============================] - 4s 6ms/step - loss: 0.2786 - accuracy: 0.9218 - val_loss: 0.2863 - val_accuracy: 0.9205\n",
            "Epoch 16/50\n",
            "704/704 [==============================] - 6s 8ms/step - loss: 0.2764 - accuracy: 0.9211 - val_loss: 0.2827 - val_accuracy: 0.9222\n",
            "Epoch 17/50\n",
            "704/704 [==============================] - 4s 6ms/step - loss: 0.2745 - accuracy: 0.9223 - val_loss: 0.2817 - val_accuracy: 0.9220\n",
            "Epoch 18/50\n",
            "704/704 [==============================] - 4s 6ms/step - loss: 0.2733 - accuracy: 0.9225 - val_loss: 0.2800 - val_accuracy: 0.9232\n",
            "Epoch 19/50\n",
            "704/704 [==============================] - 6s 8ms/step - loss: 0.2715 - accuracy: 0.9224 - val_loss: 0.2804 - val_accuracy: 0.9226\n",
            "Epoch 20/50\n",
            "704/704 [==============================] - 4s 6ms/step - loss: 0.2703 - accuracy: 0.9234 - val_loss: 0.2792 - val_accuracy: 0.9221\n",
            "Epoch 21/50\n",
            "704/704 [==============================] - 5s 7ms/step - loss: 0.2691 - accuracy: 0.9236 - val_loss: 0.2806 - val_accuracy: 0.9217\n",
            "Epoch 22/50\n",
            "704/704 [==============================] - 4s 6ms/step - loss: 0.2678 - accuracy: 0.9240 - val_loss: 0.2780 - val_accuracy: 0.9245\n",
            "Epoch 23/50\n",
            "704/704 [==============================] - 4s 6ms/step - loss: 0.2663 - accuracy: 0.9249 - val_loss: 0.2790 - val_accuracy: 0.9229\n",
            "Epoch 24/50\n",
            "704/704 [==============================] - 5s 7ms/step - loss: 0.2656 - accuracy: 0.9251 - val_loss: 0.2814 - val_accuracy: 0.9226\n",
            "Epoch 25/50\n",
            "704/704 [==============================] - 5s 6ms/step - loss: 0.2644 - accuracy: 0.9249 - val_loss: 0.2781 - val_accuracy: 0.9239\n",
            "Epoch 25: early stopping\n"
          ]
        }
      ]
    },
    {
      "cell_type": "code",
      "source": [
        "plt.figure(figsize = (8,4))\n",
        "plt.plot(history.history['accuracy'])\n",
        "plt.plot(history.history['val_accuracy'])\n",
        "plt.title('model accuracy')\n",
        "plt.ylabel('accuracy')\n",
        "plt.xlabel('epoch')\n",
        "plt.legend(['train', 'val'], loc='lower right')\n",
        "plt.show()"
      ],
      "metadata": {
        "colab": {
          "base_uri": "https://localhost:8080/",
          "height": 410
        },
        "id": "HW6pj-IuhvAc",
        "outputId": "8b1e8cf8-d629-4491-b40f-0a14516587fd"
      },
      "execution_count": null,
      "outputs": [
        {
          "output_type": "display_data",
          "data": {
            "text/plain": [
              "<Figure size 800x400 with 1 Axes>"
            ],
            "image/png": "[encoded data removed]"
          },
          "metadata": {}
        }
      ]
    },
    {
      "cell_type": "code",
      "source": [
        "plt.figure(figsize = (8,4))\n",
        "plt.plot(history.history['loss'])\n",
        "plt.plot(history.history['val_loss'])\n",
        "plt.title('model loss')\n",
        "plt.ylabel('loss')\n",
        "plt.xlabel('epoch')\n",
        "plt.legend(['train', 'val'], loc='upper right')\n",
        "plt.show()"
      ],
      "metadata": {
        "colab": {
          "base_uri": "https://localhost:8080/",
          "height": 410
        },
        "id": "mT0mhwufhc0X",
        "outputId": "4c6c6d88-d2d7-4682-aeb4-e40ddf0f02b4"
      },
      "execution_count": null,
      "outputs": [
        {
          "output_type": "display_data",
          "data": {
            "text/plain": [
              "<Figure size 800x400 with 1 Axes>"
            ],
            "image/png": "[encoded data removed]"
          },
          "metadata": {}
        }
      ]
    },
    {
      "cell_type": "code",
      "source": [
        "y_predection = network.predict(X_test)\n",
        "print(y_predection)\n",
        "prediction = np.argmax(y_predection, axis=1)\n",
        "print(prediction)"
      ],
      "metadata": {
        "colab": {
          "base_uri": "https://localhost:8080/"
        },
        "id": "lj6JNMD1OsO8",
        "outputId": "9bc7f148-9449-445b-cd1b-e29acb5d9801"
      },
      "execution_count": null,
      "outputs": [
        {
          "output_type": "stream",
          "name": "stdout",
          "text": [
            "313/313 [==============================] - 1s 2ms/step\n",
            "[[5.47580976e-06 1.17380577e-10 2.31328413e-05 ... 9.94299054e-01\n",
            "  5.48798516e-06 3.91282520e-04]\n",
            " [8.18763045e-04 8.18030094e-06 9.87036347e-01 ... 9.07048143e-17\n",
            "  6.19326951e-04 8.68096046e-12]\n",
            " [8.83606560e-07 9.83271837e-01 6.67020772e-03 ... 2.67854868e-03\n",
            "  2.41641467e-03 2.75354367e-04]\n",
            " ...\n",
            " [1.73328409e-08 4.14718428e-08 6.30250906e-06 ... 4.81896423e-04\n",
            "  8.70260224e-03 1.24150645e-02]\n",
            " [1.02719798e-06 1.00765355e-05 2.55490545e-06 ... 1.42349450e-07\n",
            "  3.04917302e-02 1.10196788e-06]\n",
            " [1.22794254e-05 6.85562935e-13 1.02505292e-04 ... 6.51383895e-12\n",
            "  3.61836328e-07 1.01379727e-09]]\n",
            "[7 2 1 ... 4 5 6]\n"
          ]
        }
      ]
    },
    {
      "cell_type": "code",
      "source": [
        "finalperdict = metrics.accuracy_score(y_test, prediction)\n",
        "round(finalperdict*100,2)"
      ],
      "metadata": {
        "colab": {
          "base_uri": "https://localhost:8080/"
        },
        "id": "5cXwmW3XO4Nk",
        "outputId": "70d8237b-1d9d-4145-f907-7eb3ec918962"
      },
      "execution_count": null,
      "outputs": [
        {
          "output_type": "execute_result",
          "data": {
            "text/plain": [
              "92.37"
            ]
          },
          "metadata": {},
          "execution_count": 73
        }
      ]
    }
  ]
}